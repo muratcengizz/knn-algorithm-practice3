{
 "cells": [
  {
   "cell_type": "markdown",
   "id": "442b59f0-bc2f-4bf4-ad65-26a6f1995585",
   "metadata": {},
   "source": [
    "### Bu veri seti, farklı bölgelerdeki hava durumu ölçümlerini içeriyor.\n",
    "### Bölge: Ölçümün yapıldığı bölge\n",
    "### Tarih: Ölçümün yapıldığı tarih\n",
    "### Saat: Ölçümün yapıldığı saat\n",
    "### Sıcaklık: Ölçüm anındaki sıcaklık (Celsius)\n",
    "### Nem Oranı: Ölçüm anındaki nem oranı (%)\n",
    "### Rüzgar Hızı: Ölçüm anındaki rüzgar hızı (km/saat)\n",
    "### Hava Durumu: Ölçüm anındaki hava durumu (Açık, Parçalı Bulutlu, Kapalı, Yağmurlu, Karlı, Fırtınalı vb.)¶"
   ]
  },
  {
   "cell_type": "code",
   "execution_count": 1,
   "id": "549c25d3-b273-4c05-9ede-376a84492624",
   "metadata": {},
   "outputs": [],
   "source": [
    "import numpy as np\n",
    "import pandas as pd\n",
    "import seaborn as sns\n",
    "from sklearn.neighbors import KNeighborsRegressor\n",
    "from sklearn.model_selection import train_test_split, GridSearchCV\n",
    "from sklearn.metrics import r2_score, mean_squared_error"
   ]
  },
  {
   "cell_type": "code",
   "execution_count": 2,
   "id": "d43bd1cd-21e8-4954-a13e-658586415a09",
   "metadata": {},
   "outputs": [
    {
     "data": {
      "text/html": [
       "<div>\n",
       "<style scoped>\n",
       "    .dataframe tbody tr th:only-of-type {\n",
       "        vertical-align: middle;\n",
       "    }\n",
       "\n",
       "    .dataframe tbody tr th {\n",
       "        vertical-align: top;\n",
       "    }\n",
       "\n",
       "    .dataframe thead th {\n",
       "        text-align: right;\n",
       "    }\n",
       "</style>\n",
       "<table border=\"1\" class=\"dataframe\">\n",
       "  <thead>\n",
       "    <tr style=\"text-align: right;\">\n",
       "      <th></th>\n",
       "      <th>Bölge</th>\n",
       "      <th>Tarih</th>\n",
       "      <th>Sıcaklık</th>\n",
       "      <th>Nem Oranı</th>\n",
       "      <th>Rüzgar Hızı</th>\n",
       "      <th>Hava Durumu</th>\n",
       "    </tr>\n",
       "  </thead>\n",
       "  <tbody>\n",
       "    <tr>\n",
       "      <th>0</th>\n",
       "      <td>İstanbul</td>\n",
       "      <td>2020-01-01</td>\n",
       "      <td>2.927794</td>\n",
       "      <td>40.281680</td>\n",
       "      <td>13.857469</td>\n",
       "      <td>Karlı</td>\n",
       "    </tr>\n",
       "    <tr>\n",
       "      <th>1</th>\n",
       "      <td>İstanbul</td>\n",
       "      <td>2020-01-02</td>\n",
       "      <td>10.303603</td>\n",
       "      <td>85.956853</td>\n",
       "      <td>12.812972</td>\n",
       "      <td>Fırtınalı</td>\n",
       "    </tr>\n",
       "    <tr>\n",
       "      <th>2</th>\n",
       "      <td>İstanbul</td>\n",
       "      <td>2020-01-03</td>\n",
       "      <td>7.243945</td>\n",
       "      <td>38.861828</td>\n",
       "      <td>7.739213</td>\n",
       "      <td>Fırtınalı</td>\n",
       "    </tr>\n",
       "    <tr>\n",
       "      <th>3</th>\n",
       "      <td>İstanbul</td>\n",
       "      <td>2020-01-04</td>\n",
       "      <td>25.142286</td>\n",
       "      <td>54.627204</td>\n",
       "      <td>4.245647</td>\n",
       "      <td>Kapalı</td>\n",
       "    </tr>\n",
       "    <tr>\n",
       "      <th>4</th>\n",
       "      <td>İstanbul</td>\n",
       "      <td>2020-01-05</td>\n",
       "      <td>24.503789</td>\n",
       "      <td>79.845864</td>\n",
       "      <td>9.515083</td>\n",
       "      <td>Karlı</td>\n",
       "    </tr>\n",
       "  </tbody>\n",
       "</table>\n",
       "</div>"
      ],
      "text/plain": [
       "      Bölge      Tarih   Sıcaklık  Nem Oranı  Rüzgar Hızı Hava Durumu\n",
       "0  İstanbul 2020-01-01   2.927794  40.281680    13.857469       Karlı\n",
       "1  İstanbul 2020-01-02  10.303603  85.956853    12.812972   Fırtınalı\n",
       "2  İstanbul 2020-01-03   7.243945  38.861828     7.739213   Fırtınalı\n",
       "3  İstanbul 2020-01-04  25.142286  54.627204     4.245647      Kapalı\n",
       "4  İstanbul 2020-01-05  24.503789  79.845864     9.515083       Karlı"
      ]
     },
     "execution_count": 2,
     "metadata": {},
     "output_type": "execute_result"
    }
   ],
   "source": [
    "# Bölge Listesi\n",
    "bolgeler = ['İstanbul', 'Ankara', 'İzmir', 'Antalya', 'Bursa', 'Adana', 'Konya', 'Gaziantep']\n",
    "\n",
    "# Tarih ve saat listeleri\n",
    "tarihler = pd.date_range(start='2020-01-01', end='2022-12-31')\n",
    "\n",
    "\n",
    "# Sıcaklık, nem oranı ve rüzgar hızı için normal dağılım kullanalım.\n",
    "sicakliklar = np.random.normal(loc=20, scale=10, size=(len(tarihler) * len(bolgeler)))\n",
    "nem_oranlari = np.random.normal(loc=50, scale=20, size=(len(tarihler) * len(bolgeler)))\n",
    "ruzgar_hizlari = np.random.normal(loc=10, scale=5, size=(len(tarihler) * len(bolgeler)))\n",
    "\n",
    "\n",
    "# Hava durumu için rastgele tahmin\n",
    "hava_durumlari = np.random.choice(['Açık', 'Parçalı Bulutlu', 'Kapalı', 'Yağmurlu', 'Karlı', 'Fırtınalı'],\n",
    "                                 size=(len(tarihler) * len(bolgeler)))\n",
    "\n",
    "dataset = pd.DataFrame({\n",
    "    'Bölge':np.repeat(bolgeler, len(tarihler)),\n",
    "    'Tarih': np.tile(tarihler, len(bolgeler)),\n",
    "    'Sıcaklık': sicakliklar,\n",
    "    'Nem Oranı': nem_oranlari,\n",
    "    'Rüzgar Hızı': ruzgar_hizlari, \n",
    "    'Hava Durumu': hava_durumlari\n",
    "})\n",
    "\n",
    "\n",
    "dataset.loc[dataset.sample(frac=0.05).index, 'Sıcaklık'] = np.nan\n",
    "dataset.loc[dataset.sample(frac=0.05).index, 'Nem Oranı'] = np.nan\n",
    "dataset.loc[dataset.sample(frac=0.05).index, 'Rüzgar Hızı'] = np.nan\n",
    "\n",
    "dataset_for_hypothesis = dataset.copy()\n",
    "\n",
    "dataset.head()"
   ]
  },
  {
   "cell_type": "markdown",
   "id": "a5b8e3df-1cd6-46b1-9d05-0a3eeb85bafe",
   "metadata": {},
   "source": [
    "# Veri Analizi"
   ]
  },
  {
   "cell_type": "code",
   "execution_count": 3,
   "id": "41aede44-9723-44ad-b38b-5cf59e22527e",
   "metadata": {},
   "outputs": [
    {
     "name": "stderr",
     "output_type": "stream",
     "text": [
      "C:\\Users\\murat\\AppData\\Local\\Temp\\ipykernel_17068\\3183102368.py:1: FutureWarning: Treating datetime data as categorical rather than numeric in `.describe` is deprecated and will be removed in a future version of pandas. Specify `datetime_is_numeric=True` to silence this warning and adopt the future behavior now.\n",
      "  dataset.describe(include='all').T\n"
     ]
    },
    {
     "data": {
      "text/html": [
       "<div>\n",
       "<style scoped>\n",
       "    .dataframe tbody tr th:only-of-type {\n",
       "        vertical-align: middle;\n",
       "    }\n",
       "\n",
       "    .dataframe tbody tr th {\n",
       "        vertical-align: top;\n",
       "    }\n",
       "\n",
       "    .dataframe thead th {\n",
       "        text-align: right;\n",
       "    }\n",
       "</style>\n",
       "<table border=\"1\" class=\"dataframe\">\n",
       "  <thead>\n",
       "    <tr style=\"text-align: right;\">\n",
       "      <th></th>\n",
       "      <th>count</th>\n",
       "      <th>unique</th>\n",
       "      <th>top</th>\n",
       "      <th>freq</th>\n",
       "      <th>first</th>\n",
       "      <th>last</th>\n",
       "      <th>mean</th>\n",
       "      <th>std</th>\n",
       "      <th>min</th>\n",
       "      <th>25%</th>\n",
       "      <th>50%</th>\n",
       "      <th>75%</th>\n",
       "      <th>max</th>\n",
       "    </tr>\n",
       "  </thead>\n",
       "  <tbody>\n",
       "    <tr>\n",
       "      <th>Bölge</th>\n",
       "      <td>8768</td>\n",
       "      <td>8</td>\n",
       "      <td>İstanbul</td>\n",
       "      <td>1096</td>\n",
       "      <td>NaT</td>\n",
       "      <td>NaT</td>\n",
       "      <td>NaN</td>\n",
       "      <td>NaN</td>\n",
       "      <td>NaN</td>\n",
       "      <td>NaN</td>\n",
       "      <td>NaN</td>\n",
       "      <td>NaN</td>\n",
       "      <td>NaN</td>\n",
       "    </tr>\n",
       "    <tr>\n",
       "      <th>Tarih</th>\n",
       "      <td>8768</td>\n",
       "      <td>1096</td>\n",
       "      <td>2020-01-01 00:00:00</td>\n",
       "      <td>8</td>\n",
       "      <td>2020-01-01</td>\n",
       "      <td>2022-12-31</td>\n",
       "      <td>NaN</td>\n",
       "      <td>NaN</td>\n",
       "      <td>NaN</td>\n",
       "      <td>NaN</td>\n",
       "      <td>NaN</td>\n",
       "      <td>NaN</td>\n",
       "      <td>NaN</td>\n",
       "    </tr>\n",
       "    <tr>\n",
       "      <th>Sıcaklık</th>\n",
       "      <td>8330.0</td>\n",
       "      <td>NaN</td>\n",
       "      <td>NaN</td>\n",
       "      <td>NaN</td>\n",
       "      <td>NaT</td>\n",
       "      <td>NaT</td>\n",
       "      <td>20.021576</td>\n",
       "      <td>9.949133</td>\n",
       "      <td>-10.201905</td>\n",
       "      <td>13.260917</td>\n",
       "      <td>20.09893</td>\n",
       "      <td>26.955779</td>\n",
       "      <td>55.520474</td>\n",
       "    </tr>\n",
       "    <tr>\n",
       "      <th>Nem Oranı</th>\n",
       "      <td>8330.0</td>\n",
       "      <td>NaN</td>\n",
       "      <td>NaN</td>\n",
       "      <td>NaN</td>\n",
       "      <td>NaT</td>\n",
       "      <td>NaT</td>\n",
       "      <td>50.08378</td>\n",
       "      <td>20.137783</td>\n",
       "      <td>-20.806917</td>\n",
       "      <td>36.591444</td>\n",
       "      <td>50.183136</td>\n",
       "      <td>63.711067</td>\n",
       "      <td>123.314621</td>\n",
       "    </tr>\n",
       "    <tr>\n",
       "      <th>Rüzgar Hızı</th>\n",
       "      <td>8330.0</td>\n",
       "      <td>NaN</td>\n",
       "      <td>NaN</td>\n",
       "      <td>NaN</td>\n",
       "      <td>NaT</td>\n",
       "      <td>NaT</td>\n",
       "      <td>9.95198</td>\n",
       "      <td>4.988752</td>\n",
       "      <td>-8.302796</td>\n",
       "      <td>6.517626</td>\n",
       "      <td>9.948761</td>\n",
       "      <td>13.298052</td>\n",
       "      <td>27.307936</td>\n",
       "    </tr>\n",
       "    <tr>\n",
       "      <th>Hava Durumu</th>\n",
       "      <td>8768</td>\n",
       "      <td>6</td>\n",
       "      <td>Karlı</td>\n",
       "      <td>1499</td>\n",
       "      <td>NaT</td>\n",
       "      <td>NaT</td>\n",
       "      <td>NaN</td>\n",
       "      <td>NaN</td>\n",
       "      <td>NaN</td>\n",
       "      <td>NaN</td>\n",
       "      <td>NaN</td>\n",
       "      <td>NaN</td>\n",
       "      <td>NaN</td>\n",
       "    </tr>\n",
       "  </tbody>\n",
       "</table>\n",
       "</div>"
      ],
      "text/plain": [
       "              count unique                  top  freq      first       last  \\\n",
       "Bölge          8768      8             İstanbul  1096        NaT        NaT   \n",
       "Tarih          8768   1096  2020-01-01 00:00:00     8 2020-01-01 2022-12-31   \n",
       "Sıcaklık     8330.0    NaN                  NaN   NaN        NaT        NaT   \n",
       "Nem Oranı    8330.0    NaN                  NaN   NaN        NaT        NaT   \n",
       "Rüzgar Hızı  8330.0    NaN                  NaN   NaN        NaT        NaT   \n",
       "Hava Durumu    8768      6                Karlı  1499        NaT        NaT   \n",
       "\n",
       "                  mean        std        min        25%        50%        75%  \\\n",
       "Bölge              NaN        NaN        NaN        NaN        NaN        NaN   \n",
       "Tarih              NaN        NaN        NaN        NaN        NaN        NaN   \n",
       "Sıcaklık     20.021576   9.949133 -10.201905  13.260917   20.09893  26.955779   \n",
       "Nem Oranı     50.08378  20.137783 -20.806917  36.591444  50.183136  63.711067   \n",
       "Rüzgar Hızı    9.95198   4.988752  -8.302796   6.517626   9.948761  13.298052   \n",
       "Hava Durumu        NaN        NaN        NaN        NaN        NaN        NaN   \n",
       "\n",
       "                    max  \n",
       "Bölge               NaN  \n",
       "Tarih               NaN  \n",
       "Sıcaklık      55.520474  \n",
       "Nem Oranı    123.314621  \n",
       "Rüzgar Hızı   27.307936  \n",
       "Hava Durumu         NaN  "
      ]
     },
     "execution_count": 3,
     "metadata": {},
     "output_type": "execute_result"
    }
   ],
   "source": [
    "dataset.describe(include='all').T"
   ]
  },
  {
   "cell_type": "code",
   "execution_count": 4,
   "id": "18a60941-cc6c-48fc-94df-14ccd9a1b301",
   "metadata": {},
   "outputs": [
    {
     "name": "stdout",
     "output_type": "stream",
     "text": [
      "<class 'pandas.core.frame.DataFrame'>\n",
      "RangeIndex: 8768 entries, 0 to 8767\n",
      "Data columns (total 6 columns):\n",
      " #   Column       Non-Null Count  Dtype         \n",
      "---  ------       --------------  -----         \n",
      " 0   Bölge        8768 non-null   object        \n",
      " 1   Tarih        8768 non-null   datetime64[ns]\n",
      " 2   Sıcaklık     8330 non-null   float64       \n",
      " 3   Nem Oranı    8330 non-null   float64       \n",
      " 4   Rüzgar Hızı  8330 non-null   float64       \n",
      " 5   Hava Durumu  8768 non-null   object        \n",
      "dtypes: datetime64[ns](1), float64(3), object(2)\n",
      "memory usage: 411.1+ KB\n"
     ]
    }
   ],
   "source": [
    "dataset.info()"
   ]
  },
  {
   "cell_type": "code",
   "execution_count": 5,
   "id": "6d0df636-aa28-4a15-87dc-7bbf95ae1461",
   "metadata": {},
   "outputs": [
    {
     "data": {
      "text/plain": [
       "Bölge            0\n",
       "Tarih            0\n",
       "Sıcaklık       438\n",
       "Nem Oranı      438\n",
       "Rüzgar Hızı    438\n",
       "Hava Durumu      0\n",
       "dtype: int64"
      ]
     },
     "execution_count": 5,
     "metadata": {},
     "output_type": "execute_result"
    }
   ],
   "source": [
    "dataset.isnull().sum()"
   ]
  },
  {
   "cell_type": "code",
   "execution_count": 6,
   "id": "2e0a35b7-32a9-4f75-a71b-3cead9214fd4",
   "metadata": {},
   "outputs": [
    {
     "data": {
      "image/png": "[encoded data removed]",
      "text/plain": [
       "<Figure size 432x288 with 1 Axes>"
      ]
     },
     "metadata": {
      "needs_background": "light"
     },
     "output_type": "display_data"
    }
   ],
   "source": [
    "sns.boxplot(data=dataset);"
   ]
  },
  {
   "cell_type": "code",
   "execution_count": 7,
   "id": "d87c6631-b361-4b5f-9df0-14ee411dc84d",
   "metadata": {},
   "outputs": [
    {
     "data": {
      "text/html": [
       "<div>\n",
       "<style scoped>\n",
       "    .dataframe tbody tr th:only-of-type {\n",
       "        vertical-align: middle;\n",
       "    }\n",
       "\n",
       "    .dataframe tbody tr th {\n",
       "        vertical-align: top;\n",
       "    }\n",
       "\n",
       "    .dataframe thead th {\n",
       "        text-align: right;\n",
       "    }\n",
       "</style>\n",
       "<table border=\"1\" class=\"dataframe\">\n",
       "  <thead>\n",
       "    <tr style=\"text-align: right;\">\n",
       "      <th></th>\n",
       "      <th>Sıcaklık</th>\n",
       "      <th>Nem Oranı</th>\n",
       "      <th>Rüzgar Hızı</th>\n",
       "    </tr>\n",
       "  </thead>\n",
       "  <tbody>\n",
       "    <tr>\n",
       "      <th>Sıcaklık</th>\n",
       "      <td>1.000000</td>\n",
       "      <td>-0.012234</td>\n",
       "      <td>0.007090</td>\n",
       "    </tr>\n",
       "    <tr>\n",
       "      <th>Nem Oranı</th>\n",
       "      <td>-0.012234</td>\n",
       "      <td>1.000000</td>\n",
       "      <td>0.018919</td>\n",
       "    </tr>\n",
       "    <tr>\n",
       "      <th>Rüzgar Hızı</th>\n",
       "      <td>0.007090</td>\n",
       "      <td>0.018919</td>\n",
       "      <td>1.000000</td>\n",
       "    </tr>\n",
       "  </tbody>\n",
       "</table>\n",
       "</div>"
      ],
      "text/plain": [
       "             Sıcaklık  Nem Oranı  Rüzgar Hızı\n",
       "Sıcaklık     1.000000  -0.012234     0.007090\n",
       "Nem Oranı   -0.012234   1.000000     0.018919\n",
       "Rüzgar Hızı  0.007090   0.018919     1.000000"
      ]
     },
     "execution_count": 7,
     "metadata": {},
     "output_type": "execute_result"
    }
   ],
   "source": [
    "dataset.corr()"
   ]
  },
  {
   "cell_type": "code",
   "execution_count": 8,
   "id": "876103b0-6015-4b27-930f-32cfe333725f",
   "metadata": {},
   "outputs": [
    {
     "name": "stderr",
     "output_type": "stream",
     "text": [
      "C:\\Users\\murat\\AppData\\Local\\Temp\\ipykernel_17068\\2458428038.py:1: FutureWarning: Dropping of nuisance columns in DataFrame reductions (with 'numeric_only=None') is deprecated; in a future version this will raise TypeError.  Select only valid columns before calling the reduction.\n",
      "  dataset.var()\n"
     ]
    },
    {
     "data": {
      "text/plain": [
       "Sıcaklık        98.985249\n",
       "Nem Oranı      405.530288\n",
       "Rüzgar Hızı     24.887644\n",
       "dtype: float64"
      ]
     },
     "execution_count": 8,
     "metadata": {},
     "output_type": "execute_result"
    }
   ],
   "source": [
    "dataset.var()"
   ]
  },
  {
   "cell_type": "markdown",
   "id": "c1eea766-65ef-4021-a817-2fd7a5debf6f",
   "metadata": {},
   "source": [
    "# Veri Ön İşleme"
   ]
  },
  {
   "cell_type": "code",
   "execution_count": 9,
   "id": "b3bec58b-601c-4fd6-8a02-225d8b9940a9",
   "metadata": {},
   "outputs": [],
   "source": [
    "# Kategorik değişkenleri sayısal değişkenlere dönüştürelim.\n",
    "from sklearn.preprocessing import LabelEncoder\n",
    "\n",
    "lbe = LabelEncoder()\n",
    "\n",
    "dataset['Bölge'] = lbe.fit_transform(dataset['Bölge'])\n",
    "dataset['Hava Durumu'] = lbe.fit_transform(dataset['Hava Durumu'])"
   ]
  },
  {
   "cell_type": "code",
   "execution_count": 10,
   "id": "ceaf4b09-0d12-448c-b925-bc80a45704b5",
   "metadata": {},
   "outputs": [
    {
     "data": {
      "text/html": [
       "<div>\n",
       "<style scoped>\n",
       "    .dataframe tbody tr th:only-of-type {\n",
       "        vertical-align: middle;\n",
       "    }\n",
       "\n",
       "    .dataframe tbody tr th {\n",
       "        vertical-align: top;\n",
       "    }\n",
       "\n",
       "    .dataframe thead th {\n",
       "        text-align: right;\n",
       "    }\n",
       "</style>\n",
       "<table border=\"1\" class=\"dataframe\">\n",
       "  <thead>\n",
       "    <tr style=\"text-align: right;\">\n",
       "      <th></th>\n",
       "      <th>Bölge</th>\n",
       "      <th>Tarih</th>\n",
       "      <th>Sıcaklık</th>\n",
       "      <th>Nem Oranı</th>\n",
       "      <th>Rüzgar Hızı</th>\n",
       "      <th>Hava Durumu</th>\n",
       "    </tr>\n",
       "  </thead>\n",
       "  <tbody>\n",
       "    <tr>\n",
       "      <th>0</th>\n",
       "      <td>6</td>\n",
       "      <td>1577836800</td>\n",
       "      <td>2.927794</td>\n",
       "      <td>40.281680</td>\n",
       "      <td>13.857469</td>\n",
       "      <td>3</td>\n",
       "    </tr>\n",
       "    <tr>\n",
       "      <th>1</th>\n",
       "      <td>6</td>\n",
       "      <td>1577923200</td>\n",
       "      <td>10.303603</td>\n",
       "      <td>85.956853</td>\n",
       "      <td>12.812972</td>\n",
       "      <td>1</td>\n",
       "    </tr>\n",
       "    <tr>\n",
       "      <th>2</th>\n",
       "      <td>6</td>\n",
       "      <td>1578009600</td>\n",
       "      <td>7.243945</td>\n",
       "      <td>38.861828</td>\n",
       "      <td>7.739213</td>\n",
       "      <td>1</td>\n",
       "    </tr>\n",
       "    <tr>\n",
       "      <th>3</th>\n",
       "      <td>6</td>\n",
       "      <td>1578096000</td>\n",
       "      <td>25.142286</td>\n",
       "      <td>54.627204</td>\n",
       "      <td>4.245647</td>\n",
       "      <td>2</td>\n",
       "    </tr>\n",
       "    <tr>\n",
       "      <th>4</th>\n",
       "      <td>6</td>\n",
       "      <td>1578182400</td>\n",
       "      <td>24.503789</td>\n",
       "      <td>79.845864</td>\n",
       "      <td>9.515083</td>\n",
       "      <td>3</td>\n",
       "    </tr>\n",
       "  </tbody>\n",
       "</table>\n",
       "</div>"
      ],
      "text/plain": [
       "   Bölge       Tarih   Sıcaklık  Nem Oranı  Rüzgar Hızı  Hava Durumu\n",
       "0      6  1577836800   2.927794  40.281680    13.857469            3\n",
       "1      6  1577923200  10.303603  85.956853    12.812972            1\n",
       "2      6  1578009600   7.243945  38.861828     7.739213            1\n",
       "3      6  1578096000  25.142286  54.627204     4.245647            2\n",
       "4      6  1578182400  24.503789  79.845864     9.515083            3"
      ]
     },
     "execution_count": 10,
     "metadata": {},
     "output_type": "execute_result"
    }
   ],
   "source": [
    "# Tarih değişkenini modele uygun hale getirelim.\n",
    "from datetime import datetime\n",
    "import time\n",
    "\n",
    "# her bir tarihi unix zaman damgasına dönüştürelim.\n",
    "unix_zaman_damgalari = []\n",
    "for tarih in dataset['Tarih']:\n",
    "    unix_zaman_damgasi = int(tarih.timestamp())\n",
    "    unix_zaman_damgalari.append(unix_zaman_damgasi)\n",
    "dataset['Tarih'] = unix_zaman_damgalari\n",
    "dataset.head()"
   ]
  },
  {
   "cell_type": "code",
   "execution_count": 11,
   "id": "d8a3f7b6-78df-4544-88a6-531db2b6f15d",
   "metadata": {},
   "outputs": [
    {
     "data": {
      "image/png": "[encoded data removed]",
      "text/plain": [
       "<Figure size 432x288 with 1 Axes>"
      ]
     },
     "metadata": {
      "needs_background": "light"
     },
     "output_type": "display_data"
    }
   ],
   "source": [
    "# Aykırı gözlemleri işleyelim.\n",
    "q1 = dataset['Sıcaklık'].quantile(0.25)\n",
    "q3 = dataset['Sıcaklık'].quantile(0.75)\n",
    "iqr = q3 - q1\n",
    "alt_sinir = q1 - 1.5 * iqr\n",
    "ust_sinir = q3 + 1.5 * iqr\n",
    "dataset[dataset['Sıcaklık'] < alt_sinir] = alt_sinir\n",
    "dataset[dataset['Sıcaklık'] > ust_sinir] = ust_sinir\n",
    "# ------------------------------------------------------\n",
    "q1 = dataset['Nem Oranı'].quantile(0.25)\n",
    "q3 = dataset['Nem Oranı'].quantile(0.75)\n",
    "iqr = q3 - q1\n",
    "alt_sinir = q1 - 1.5 * iqr\n",
    "ust_sinir = q3 + 1.5 * iqr\n",
    "dataset[dataset['Nem Oranı'] < alt_sinir] = alt_sinir\n",
    "dataset[dataset['Nem Oranı'] > ust_sinir] = ust_sinir\n",
    "# ------------------------------------------------------\n",
    "q1 = dataset['Rüzgar Hızı'].quantile(0.25)\n",
    "q3 = dataset['Rüzgar Hızı'].quantile(0.75)\n",
    "iqr = q3 - q1\n",
    "alt_sinir = q1 - 1.5 * iqr\n",
    "ust_sinir = q3 + 1.5 * iqr\n",
    "dataset[dataset['Rüzgar Hızı'] < alt_sinir] = alt_sinir\n",
    "dataset[dataset['Rüzgar Hızı'] > ust_sinir] = ust_sinir\n",
    "sns.boxplot(data=dataset);"
   ]
  },
  {
   "cell_type": "code",
   "execution_count": 12,
   "id": "74878daa-3853-487d-a050-7d9aefb19c09",
   "metadata": {},
   "outputs": [
    {
     "data": {
      "text/plain": [
       "Bölge          0\n",
       "Tarih          0\n",
       "Sıcaklık       0\n",
       "Nem Oranı      0\n",
       "Rüzgar Hızı    0\n",
       "Hava Durumu    0\n",
       "dtype: int64"
      ]
     },
     "execution_count": 12,
     "metadata": {},
     "output_type": "execute_result"
    }
   ],
   "source": [
    "# Eksik gözlemleri işleyelim.\n",
    "from sklearn.impute import KNNImputer\n",
    "from sklearn.metrics import mean_absolute_error, mean_squared_error\n",
    "\n",
    "model = KNNImputer(n_neighbors=5)\n",
    "filled_data = model.fit_transform(dataset)\n",
    "filled_data = pd.DataFrame(filled_data, columns=dataset.columns)\n",
    "filled_data.isnull().sum()"
   ]
  },
  {
   "cell_type": "markdown",
   "id": "331cd525-337b-43a8-9281-110e7f4c219c",
   "metadata": {},
   "source": [
    "# ----------------------------------------------------"
   ]
  },
  {
   "cell_type": "code",
   "execution_count": 13,
   "id": "b098d322-975b-4c0d-aa0d-6e695ff500e9",
   "metadata": {},
   "outputs": [
    {
     "data": {
      "text/html": [
       "<div>\n",
       "<style scoped>\n",
       "    .dataframe tbody tr th:only-of-type {\n",
       "        vertical-align: middle;\n",
       "    }\n",
       "\n",
       "    .dataframe tbody tr th {\n",
       "        vertical-align: top;\n",
       "    }\n",
       "\n",
       "    .dataframe thead th {\n",
       "        text-align: right;\n",
       "    }\n",
       "</style>\n",
       "<table border=\"1\" class=\"dataframe\">\n",
       "  <thead>\n",
       "    <tr style=\"text-align: right;\">\n",
       "      <th></th>\n",
       "      <th>Bölge</th>\n",
       "      <th>Tarih</th>\n",
       "      <th>Sıcaklık</th>\n",
       "      <th>Nem Oranı</th>\n",
       "      <th>Rüzgar Hızı</th>\n",
       "      <th>Hava Durumu</th>\n",
       "    </tr>\n",
       "  </thead>\n",
       "  <tbody>\n",
       "    <tr>\n",
       "      <th>0</th>\n",
       "      <td>6.0</td>\n",
       "      <td>1.577837e+09</td>\n",
       "      <td>2.927794</td>\n",
       "      <td>40.281680</td>\n",
       "      <td>13.857469</td>\n",
       "      <td>3.0</td>\n",
       "    </tr>\n",
       "    <tr>\n",
       "      <th>1</th>\n",
       "      <td>6.0</td>\n",
       "      <td>1.577923e+09</td>\n",
       "      <td>10.303603</td>\n",
       "      <td>85.956853</td>\n",
       "      <td>12.812972</td>\n",
       "      <td>1.0</td>\n",
       "    </tr>\n",
       "    <tr>\n",
       "      <th>2</th>\n",
       "      <td>6.0</td>\n",
       "      <td>1.578010e+09</td>\n",
       "      <td>7.243945</td>\n",
       "      <td>38.861828</td>\n",
       "      <td>7.739213</td>\n",
       "      <td>1.0</td>\n",
       "    </tr>\n",
       "    <tr>\n",
       "      <th>3</th>\n",
       "      <td>6.0</td>\n",
       "      <td>1.578096e+09</td>\n",
       "      <td>25.142286</td>\n",
       "      <td>54.627204</td>\n",
       "      <td>4.245647</td>\n",
       "      <td>2.0</td>\n",
       "    </tr>\n",
       "    <tr>\n",
       "      <th>4</th>\n",
       "      <td>6.0</td>\n",
       "      <td>1.578182e+09</td>\n",
       "      <td>24.503789</td>\n",
       "      <td>79.845864</td>\n",
       "      <td>9.515083</td>\n",
       "      <td>3.0</td>\n",
       "    </tr>\n",
       "  </tbody>\n",
       "</table>\n",
       "</div>"
      ],
      "text/plain": [
       "   Bölge         Tarih   Sıcaklık  Nem Oranı  Rüzgar Hızı  Hava Durumu\n",
       "0    6.0  1.577837e+09   2.927794  40.281680    13.857469          3.0\n",
       "1    6.0  1.577923e+09  10.303603  85.956853    12.812972          1.0\n",
       "2    6.0  1.578010e+09   7.243945  38.861828     7.739213          1.0\n",
       "3    6.0  1.578096e+09  25.142286  54.627204     4.245647          2.0\n",
       "4    6.0  1.578182e+09  24.503789  79.845864     9.515083          3.0"
      ]
     },
     "execution_count": 13,
     "metadata": {},
     "output_type": "execute_result"
    }
   ],
   "source": [
    "filled_data.head()"
   ]
  },
  {
   "cell_type": "markdown",
   "id": "6617df7c-adb7-4738-99dc-bb87ed99a2a4",
   "metadata": {},
   "source": [
    "# Hipotez Testleri"
   ]
  },
  {
   "cell_type": "markdown",
   "id": "059cc74f-9375-43a5-b1e7-bd754fb21bb6",
   "metadata": {},
   "source": [
    "### H0: Bölgelere bağlı olarak sıcaklık farkı yoktur.\n",
    "### H1: Bölgelere bağlı olarak sıcaklık farkı vardır."
   ]
  },
  {
   "cell_type": "markdown",
   "id": "19605d1a-af8a-46b8-b4ed-c1621998d9ed",
   "metadata": {},
   "source": [
    "### Hangi hipotez testini uygulayacağımıza varsayımlar üzerinden karar vereceğiz."
   ]
  },
  {
   "cell_type": "code",
   "execution_count": 14,
   "id": "1e6d0da3-09c8-49b1-b348-aee012ba33c2",
   "metadata": {},
   "outputs": [],
   "source": [
    "# Örneklemi oluşturalım.\n",
    "deneme = dataset_for_hypothesis.groupby('Bölge')['Sıcaklık'].mean()"
   ]
  },
  {
   "cell_type": "code",
   "execution_count": 15,
   "id": "1d655658-e0a3-478a-ad95-40ea7d7dc9ac",
   "metadata": {},
   "outputs": [
    {
     "data": {
      "image/png": "[encoded data removed]",
      "text/plain": [
       "<Figure size 432x288 with 1 Axes>"
      ]
     },
     "metadata": {
      "needs_background": "light"
     },
     "output_type": "display_data"
    }
   ],
   "source": [
    "# Normallik Varsayımı\n",
    "sns.histplot(data=deneme);"
   ]
  },
  {
   "cell_type": "markdown",
   "id": "e68ef026-2dbb-4546-bebd-e0fd329dff1f",
   "metadata": {},
   "source": [
    "### Veriler normal dağılmadığı için parametrik test yapamayız. Non-parametrik test yapabilir. Non-parametrik testlerden hangisini uygulayacağımızı testin hangi senoryalarda kullanıldığına göre karar vereceğiz. Bizim senaryomuzda, Wilcoxon testi kullanabiliriz. Bu test, tek grup içerisinde iki ilişkili örneklemin farklılığını test etmek için kullanılır."
   ]
  },
  {
   "cell_type": "code",
   "execution_count": 16,
   "id": "428b3c1c-23bb-457f-b326-ad9968b49b37",
   "metadata": {},
   "outputs": [
    {
     "name": "stdout",
     "output_type": "stream",
     "text": [
      "H0 hipotezi reddedilir. Bölgelere bağlı olarak sıcaklık farkı vardır.\n"
     ]
    }
   ],
   "source": [
    "from scipy.stats import wilcoxon\n",
    "\n",
    "statistic, p_value = wilcoxon(deneme)\n",
    "alpha = 0.05\n",
    "\n",
    "if p_value < alpha:\n",
    "    print('H0 hipotezi reddedilir. Bölgelere bağlı olarak sıcaklık farkı vardır.')\n",
    "elif p_value > alpha:\n",
    "    print('H1 hipotezi reddedilmez. Bölgelere bağlı olarak sıcaklık farkı yoktur.')"
   ]
  },
  {
   "cell_type": "markdown",
   "id": "ec9d9ceb-e323-4b1f-8501-178d1742fe27",
   "metadata": {},
   "source": [
    "# ---------------------------------------------------------------------"
   ]
  },
  {
   "cell_type": "code",
   "execution_count": 17,
   "id": "03481da0-bc86-4267-b40f-f7f01588a8aa",
   "metadata": {},
   "outputs": [
    {
     "data": {
      "text/html": [
       "<div>\n",
       "<style scoped>\n",
       "    .dataframe tbody tr th:only-of-type {\n",
       "        vertical-align: middle;\n",
       "    }\n",
       "\n",
       "    .dataframe tbody tr th {\n",
       "        vertical-align: top;\n",
       "    }\n",
       "\n",
       "    .dataframe thead th {\n",
       "        text-align: right;\n",
       "    }\n",
       "</style>\n",
       "<table border=\"1\" class=\"dataframe\">\n",
       "  <thead>\n",
       "    <tr style=\"text-align: right;\">\n",
       "      <th></th>\n",
       "      <th>Bölge</th>\n",
       "      <th>Tarih</th>\n",
       "      <th>Sıcaklık</th>\n",
       "      <th>Nem Oranı</th>\n",
       "      <th>Rüzgar Hızı</th>\n",
       "      <th>Hava Durumu</th>\n",
       "    </tr>\n",
       "  </thead>\n",
       "  <tbody>\n",
       "    <tr>\n",
       "      <th>0</th>\n",
       "      <td>İstanbul</td>\n",
       "      <td>2020-01-01</td>\n",
       "      <td>2.927794</td>\n",
       "      <td>40.281680</td>\n",
       "      <td>13.857469</td>\n",
       "      <td>Karlı</td>\n",
       "    </tr>\n",
       "    <tr>\n",
       "      <th>1</th>\n",
       "      <td>İstanbul</td>\n",
       "      <td>2020-01-02</td>\n",
       "      <td>10.303603</td>\n",
       "      <td>85.956853</td>\n",
       "      <td>12.812972</td>\n",
       "      <td>Fırtınalı</td>\n",
       "    </tr>\n",
       "    <tr>\n",
       "      <th>2</th>\n",
       "      <td>İstanbul</td>\n",
       "      <td>2020-01-03</td>\n",
       "      <td>7.243945</td>\n",
       "      <td>38.861828</td>\n",
       "      <td>7.739213</td>\n",
       "      <td>Fırtınalı</td>\n",
       "    </tr>\n",
       "    <tr>\n",
       "      <th>3</th>\n",
       "      <td>İstanbul</td>\n",
       "      <td>2020-01-04</td>\n",
       "      <td>25.142286</td>\n",
       "      <td>54.627204</td>\n",
       "      <td>4.245647</td>\n",
       "      <td>Kapalı</td>\n",
       "    </tr>\n",
       "    <tr>\n",
       "      <th>4</th>\n",
       "      <td>İstanbul</td>\n",
       "      <td>2020-01-05</td>\n",
       "      <td>24.503789</td>\n",
       "      <td>79.845864</td>\n",
       "      <td>9.515083</td>\n",
       "      <td>Karlı</td>\n",
       "    </tr>\n",
       "  </tbody>\n",
       "</table>\n",
       "</div>"
      ],
      "text/plain": [
       "      Bölge      Tarih   Sıcaklık  Nem Oranı  Rüzgar Hızı Hava Durumu\n",
       "0  İstanbul 2020-01-01   2.927794  40.281680    13.857469       Karlı\n",
       "1  İstanbul 2020-01-02  10.303603  85.956853    12.812972   Fırtınalı\n",
       "2  İstanbul 2020-01-03   7.243945  38.861828     7.739213   Fırtınalı\n",
       "3  İstanbul 2020-01-04  25.142286  54.627204     4.245647      Kapalı\n",
       "4  İstanbul 2020-01-05  24.503789  79.845864     9.515083       Karlı"
      ]
     },
     "execution_count": 17,
     "metadata": {},
     "output_type": "execute_result"
    }
   ],
   "source": [
    "dataset_for_hypothesis.head()"
   ]
  },
  {
   "cell_type": "markdown",
   "id": "5e4ad1d4-962c-4922-8231-52d2e4ce52ac",
   "metadata": {},
   "source": [
    "### H0: İstanbul ile Antalya arasında hava durumu benzerliği yoktur.\n",
    "### H1: İstanbul ile Antalya arasında hava durumu benzerliği vardır."
   ]
  },
  {
   "cell_type": "code",
   "execution_count": 18,
   "id": "14bc810a-c77f-430f-9102-cfd5971e3f6b",
   "metadata": {},
   "outputs": [
    {
     "data": {
      "text/plain": [
       "array([3, 1, 2, 0, 4, 5])"
      ]
     },
     "execution_count": 18,
     "metadata": {},
     "output_type": "execute_result"
    }
   ],
   "source": [
    "# Bölge bilgisine göre Hava Durumunu değerlendirebilmek için Hava Durumunu sayısal değişkene çevirelim.\n",
    "\n",
    "dataset_for_hypothesis['Hava Durumu'].unique()\n",
    "lbe = LabelEncoder()\n",
    "dataset_for_hypothesis['Hava Durumu'] = lbe.fit_transform(dataset_for_hypothesis['Hava Durumu'])\n",
    "dataset_for_hypothesis['Hava Durumu'].unique()\n",
    "## Karlı:3, Fırtınalı:1, Yağmurlu:5, Açık:0, Parçalı Bulutlu:4, Kapalı:2 "
   ]
  },
  {
   "cell_type": "code",
   "execution_count": 19,
   "id": "072e463a-fd0f-4c31-8521-e5714742a305",
   "metadata": {},
   "outputs": [],
   "source": [
    "istanbul = dataset_for_hypothesis.loc[dataset_for_hypothesis['Bölge'] == 'İstanbul', 'Hava Durumu']\n",
    "antalya = dataset_for_hypothesis.loc[dataset_for_hypothesis['Bölge'] == 'Antalya', 'Hava Durumu']"
   ]
  },
  {
   "cell_type": "code",
   "execution_count": 20,
   "id": "a634e0b5-f831-4c5a-9e0e-2afef13f2667",
   "metadata": {},
   "outputs": [
    {
     "name": "stdout",
     "output_type": "stream",
     "text": [
      "H0 hipotezi reddedilir. İstanbul örneklemi normal dağılıma uymuyor.\n",
      "H0 hipotezi reddedilir. Antalya örneklemi normal dağılıma uymuyor.\n"
     ]
    }
   ],
   "source": [
    "# Normallik varsayımını test etmek için shapiro-wilk testi yapacağız.\n",
    "from scipy.stats import shapiro\n",
    "alpha = 0.05\n",
    "\n",
    "stat, p_value = shapiro(istanbul)\n",
    "if p_value < alpha:\n",
    "    print('H0 hipotezi reddedilir. İstanbul örneklemi normal dağılıma uymuyor.')\n",
    "else:\n",
    "    print('H0 hipotezi reddedilmez. İstanbul normal dağılıma uyuyor.')\n",
    "    \n",
    "stat, p_value = shapiro(antalya)\n",
    "if p_value < alpha:\n",
    "    print('H0 hipotezi reddedilir. Antalya örneklemi normal dağılıma uymuyor.')\n",
    "else:\n",
    "    print('H0 hipotezi reddedilmez. Antalya örneklemi normal dağılıma uyuyor.')"
   ]
  },
  {
   "cell_type": "markdown",
   "id": "b5dcb575-2dec-4a51-94e3-d7a2fb5bb9c4",
   "metadata": {},
   "source": [
    "### Normallik varsayımı sağlanmadığı için Non-parametrik test yapacağız. Mann Whitney U testi yapılabilir. Bu test, iki grup arasında farklılık olup olmadığını test etmek için kullanılır."
   ]
  },
  {
   "cell_type": "code",
   "execution_count": 21,
   "id": "f662b3d4-6fa6-479b-aacd-96b37096daeb",
   "metadata": {},
   "outputs": [
    {
     "name": "stdout",
     "output_type": "stream",
     "text": [
      "H0 reddedilmez. İstanbul ve Antalya arasında hava durumu benzerliği yoktur.\n"
     ]
    }
   ],
   "source": [
    "from scipy.stats import mannwhitneyu\n",
    "alpha = 0.05\n",
    "\n",
    "t_stat, p_value = mannwhitneyu(istanbul, antalya)\n",
    "if p_value < alpha:\n",
    "    print('H0 reddedilir. İstanbul ve Antalya arasında hava durumu benzerliği yoktur.')\n",
    "else:\n",
    "    print('H0 reddedilmez. İstanbul ve Antalya arasında hava durumu benzerliği yoktur.')"
   ]
  },
  {
   "cell_type": "markdown",
   "id": "5a2f8ad9-60fe-4b61-b9dd-eb5b9eb158d2",
   "metadata": {},
   "source": [
    "# ------------------------------------------------------------------------------------------"
   ]
  },
  {
   "cell_type": "code",
   "execution_count": 22,
   "id": "2f656f5e-58d4-44d9-851e-436dccd0f88b",
   "metadata": {},
   "outputs": [
    {
     "data": {
      "text/html": [
       "<div>\n",
       "<style scoped>\n",
       "    .dataframe tbody tr th:only-of-type {\n",
       "        vertical-align: middle;\n",
       "    }\n",
       "\n",
       "    .dataframe tbody tr th {\n",
       "        vertical-align: top;\n",
       "    }\n",
       "\n",
       "    .dataframe thead th {\n",
       "        text-align: right;\n",
       "    }\n",
       "</style>\n",
       "<table border=\"1\" class=\"dataframe\">\n",
       "  <thead>\n",
       "    <tr style=\"text-align: right;\">\n",
       "      <th></th>\n",
       "      <th>Bölge</th>\n",
       "      <th>Tarih</th>\n",
       "      <th>Sıcaklık</th>\n",
       "      <th>Nem Oranı</th>\n",
       "      <th>Rüzgar Hızı</th>\n",
       "      <th>Hava Durumu</th>\n",
       "    </tr>\n",
       "  </thead>\n",
       "  <tbody>\n",
       "    <tr>\n",
       "      <th>0</th>\n",
       "      <td>6.0</td>\n",
       "      <td>1.577837e+09</td>\n",
       "      <td>2.927794</td>\n",
       "      <td>40.281680</td>\n",
       "      <td>13.857469</td>\n",
       "      <td>3.0</td>\n",
       "    </tr>\n",
       "    <tr>\n",
       "      <th>1</th>\n",
       "      <td>6.0</td>\n",
       "      <td>1.577923e+09</td>\n",
       "      <td>10.303603</td>\n",
       "      <td>85.956853</td>\n",
       "      <td>12.812972</td>\n",
       "      <td>1.0</td>\n",
       "    </tr>\n",
       "    <tr>\n",
       "      <th>2</th>\n",
       "      <td>6.0</td>\n",
       "      <td>1.578010e+09</td>\n",
       "      <td>7.243945</td>\n",
       "      <td>38.861828</td>\n",
       "      <td>7.739213</td>\n",
       "      <td>1.0</td>\n",
       "    </tr>\n",
       "    <tr>\n",
       "      <th>3</th>\n",
       "      <td>6.0</td>\n",
       "      <td>1.578096e+09</td>\n",
       "      <td>25.142286</td>\n",
       "      <td>54.627204</td>\n",
       "      <td>4.245647</td>\n",
       "      <td>2.0</td>\n",
       "    </tr>\n",
       "    <tr>\n",
       "      <th>4</th>\n",
       "      <td>6.0</td>\n",
       "      <td>1.578182e+09</td>\n",
       "      <td>24.503789</td>\n",
       "      <td>79.845864</td>\n",
       "      <td>9.515083</td>\n",
       "      <td>3.0</td>\n",
       "    </tr>\n",
       "  </tbody>\n",
       "</table>\n",
       "</div>"
      ],
      "text/plain": [
       "   Bölge         Tarih   Sıcaklık  Nem Oranı  Rüzgar Hızı  Hava Durumu\n",
       "0    6.0  1.577837e+09   2.927794  40.281680    13.857469          3.0\n",
       "1    6.0  1.577923e+09  10.303603  85.956853    12.812972          1.0\n",
       "2    6.0  1.578010e+09   7.243945  38.861828     7.739213          1.0\n",
       "3    6.0  1.578096e+09  25.142286  54.627204     4.245647          2.0\n",
       "4    6.0  1.578182e+09  24.503789  79.845864     9.515083          3.0"
      ]
     },
     "execution_count": 22,
     "metadata": {},
     "output_type": "execute_result"
    }
   ],
   "source": [
    "filled_data.head()"
   ]
  },
  {
   "cell_type": "markdown",
   "id": "a48da912-0325-49f8-a147-e915a216b406",
   "metadata": {},
   "source": [
    "# Model İşlemleri"
   ]
  },
  {
   "cell_type": "code",
   "execution_count": 23,
   "id": "eca28fae-146a-4697-b9ed-82deb2872401",
   "metadata": {},
   "outputs": [],
   "source": [
    "# bağımlı ve bağımsız değişkenleri oluşturalım.\n",
    "X = filled_data[['Bölge', 'Tarih', 'Sıcaklık', 'Nem Oranı', 'Rüzgar Hızı']]\n",
    "y = filled_data['Hava Durumu']"
   ]
  },
  {
   "cell_type": "markdown",
   "id": "f9740623-5632-47a3-98bd-f0407cd4824d",
   "metadata": {},
   "source": [
    "### Şimdi ise, bağımlı değişkenimizin (y) normallik varsayımına uyuyor mu onu test edelim. Bunun sebebi, eğer bağımlı değişkenimiz normallik varsayımına uyuyor ise doğrusal regresyon modellerini kullanacağız. Eğer bağımlı değişkenimiz normallik varsayımına uymuyor ise doğrusal olmayan regresyon modellerini kullanacağız."
   ]
  },
  {
   "cell_type": "code",
   "execution_count": 24,
   "id": "00fd6f53-a10e-43a3-8283-456edeb2478e",
   "metadata": {},
   "outputs": [
    {
     "name": "stdout",
     "output_type": "stream",
     "text": [
      "H0 hipotezi reddedilir. Bağımlı değişken normal dağılmıyor.\n"
     ]
    },
    {
     "name": "stderr",
     "output_type": "stream",
     "text": [
      "C:\\Users\\murat\\anaconda3\\lib\\site-packages\\scipy\\stats\\morestats.py:1760: UserWarning: p-value may not be accurate for N > 5000.\n",
      "  warnings.warn(\"p-value may not be accurate for N > 5000.\")\n"
     ]
    }
   ],
   "source": [
    "alpha = 0.05\n",
    "\n",
    "statistic, p_value = shapiro(y)\n",
    "if p_value < alpha:\n",
    "    print('H0 hipotezi reddedilir. Bağımlı değişken normal dağılmıyor.')\n",
    "else:\n",
    "    print('H0 hipotezi reddedilmez. Bağımlı değişken normal dağılıyor.')"
   ]
  },
  {
   "cell_type": "markdown",
   "id": "46a31e30-0040-457d-b0b6-d71b238136df",
   "metadata": {},
   "source": [
    "### Bağımlı değişken normal dağılmadığı için, doğrusal olmayan regresyon modeli kuracağız. KNN (en yakın komşular) modeli kurabiliriz."
   ]
  },
  {
   "cell_type": "code",
   "execution_count": 25,
   "id": "ac67da1a-571a-4c2f-a1c0-b3010a51e93d",
   "metadata": {},
   "outputs": [],
   "source": [
    "# eğtim ve test setlerini ayıralım.\n",
    "X_train, X_test, y_train, y_test = train_test_split(X, y, test_size=0.2, random_state=42)"
   ]
  },
  {
   "cell_type": "code",
   "execution_count": 26,
   "id": "20f032ed-c645-4c6f-9350-a4758d8aa1d5",
   "metadata": {},
   "outputs": [],
   "source": [
    "# Modeli oluşturalım ve eğitelim.\n",
    "model = KNeighborsRegressor().fit(X_train, y_train)"
   ]
  },
  {
   "cell_type": "code",
   "execution_count": 27,
   "id": "41038f65-f128-477b-a9ed-f2680900346a",
   "metadata": {},
   "outputs": [],
   "source": [
    "# Tahmin yapalım.\n",
    "y_pred = model.predict(X_test)"
   ]
  },
  {
   "cell_type": "code",
   "execution_count": 28,
   "id": "f13bf859-4659-4bdb-b3cb-0c97fc0a890b",
   "metadata": {},
   "outputs": [
    {
     "name": "stdout",
     "output_type": "stream",
     "text": [
      "R-Kare Değeri:  0.24472071213983826\n",
      "MSE Değeri:  3.376716077537058\n"
     ]
    }
   ],
   "source": [
    "# Modeli Değerlendirelim.\n",
    "r2 = r2_score(y_test, y_pred)\n",
    "mse = mean_squared_error(y_test, y_pred)\n",
    "\n",
    "print('R-Kare Değeri: ', r2)\n",
    "print('MSE Değeri: ', mse) "
   ]
  },
  {
   "cell_type": "markdown",
   "id": "1d7d2c3e-9613-4f6e-a6b0-648b25e47ae1",
   "metadata": {},
   "source": [
    "# Model Tuning İşlemi"
   ]
  },
  {
   "cell_type": "markdown",
   "id": "2b1d7ad2-b60e-4edc-9433-167a1178910c",
   "metadata": {},
   "source": [
    "### Şimdi ise modelimiz için en iyi hiperparametreleri bularak modelimizi optimize edelim."
   ]
  },
  {
   "cell_type": "code",
   "execution_count": 29,
   "id": "1de28744-c7b3-4704-a4c5-ef92b02090ef",
   "metadata": {},
   "outputs": [
    {
     "name": "stdout",
     "output_type": "stream",
     "text": [
      "Best Params:  {'algorithm': 'brute', 'leaf_size': 10, 'metric': 'chebyshev', 'n_neighbors': 11, 'weights': 'uniform'}\n",
      "Best Score:  0.5910579842577002\n"
     ]
    }
   ],
   "source": [
    "knn = KNeighborsRegressor()\n",
    "params = {\n",
    "    'n_neighbors':[3, 5, 7, 9, 11],\n",
    "    'weights': ['uniform', 'distance'],\n",
    "    'algorithm': ['ball_tree', 'kd_tree', 'brute'],\n",
    "    'metric': ['euclidean', 'manhattan', 'chebyshev'],\n",
    "    'leaf_size': [10, 20, 30, 40, 50]\n",
    "}\n",
    "grid_search = GridSearchCV(estimator=knn, param_grid=params, cv=5)\n",
    "grid_search.fit(X_train, y_train)\n",
    "\n",
    "print('Best Params: ', grid_search.best_params_)\n",
    "print('Best Score: ', grid_search.best_score_)"
   ]
  },
  {
   "cell_type": "code",
   "execution_count": 49,
   "id": "1bdd75e6-c2c2-47fd-be4c-fa121fb3cb91",
   "metadata": {},
   "outputs": [
    {
     "name": "stdout",
     "output_type": "stream",
     "text": [
      "random_state=0 için R-Kare Değeri: 0.5742557597888177\n",
      "random_state=10 için R-Kare Değeri: 0.5614684135119543\n",
      "random_state=20 için R-Kare Değeri: 0.5575243228709472\n",
      "random_state=42 için R-Kare Değeri: 0.31544451998604117\n",
      "random_state=60 için R-Kare Değeri: 0.5724585062785463\n",
      "random_state=80 için R-Kare Değeri: 0.4249910918689449\n",
      "random_state=100 için R-Kare Değeri: 0.5646083827014521\n"
     ]
    }
   ],
   "source": [
    "# random_state için en iyi değeri bulalım.\n",
    "random_states = [0, 10, 20, 42, 60, 80, 100]\n",
    "\n",
    "for element in random_states:\n",
    "    X_train, X_test, y_train, y_test = train_test_split(X, y, test_size=0.2, random_state=element)\n",
    "    model = KNeighborsRegressor(algorithm='brute', leaf_size=10, metric='chebyshev', n_neighbors=11, weights='uniform').fit(X_train, y_train)\n",
    "    y_pred = model.predict(X_test)\n",
    "    r2 = r2_score(y_test, y_pred[0:len(y_test)])\n",
    "    print(f'random_state={element} için R-Kare Değeri: {r2}')"
   ]
  },
  {
   "cell_type": "code",
   "execution_count": 51,
   "id": "92f39ce5-ddb7-49e4-a70f-c1e6f64e66de",
   "metadata": {},
   "outputs": [
    {
     "name": "stdout",
     "output_type": "stream",
     "text": [
      "R-Kare Değeri:  0.5742557597888177\n"
     ]
    }
   ],
   "source": [
    "# En iyi değerler için modelimizi tekrar oluşturalım.\n",
    "X_train, X_test, y_train, y_test = train_test_split(X, y, test_size=0.2, random_state=0)\n",
    "model = KNeighborsRegressor(algorithm='brute', leaf_size=10, metric='chebyshev', n_neighbors=11, weights='uniform').fit(X_train, y_train)\n",
    "y_pred = model.predict(X_test)\n",
    "r2 = r2_score(y_test, y_pred)\n",
    "print('R-Kare Değeri: ', r2)"
   ]
  }
 ],
 "metadata": {
  "kernelspec": {
   "display_name": "Python 3 (ipykernel)",
   "language": "python",
   "name": "python3"
  },
  "language_info": {
   "codemirror_mode": {
    "name": "ipython",
    "version": 3
   },
   "file_extension": ".py",
   "mimetype": "text/x-python",
   "name": "python",
   "nbconvert_exporter": "python",
   "pygments_lexer": "ipython3",
   "version": "3.9.12"
  }
 },
 "nbformat": 4,
 "nbformat_minor": 5
}
